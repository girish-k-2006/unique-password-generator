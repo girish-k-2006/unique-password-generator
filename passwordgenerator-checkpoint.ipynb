{
 "cells": [
  {
   "cell_type": "code",
   "execution_count": 1,
   "id": "81f99804-741f-4901-916c-018e66f83b2b",
   "metadata": {},
   "outputs": [
    {
     "name": "stdout",
     "output_type": "stream",
     "text": [
      "✅ Strong Password: s6vEmc&gidjz\n"
     ]
    }
   ],
   "source": [
    "import random\n",
    "import string\n",
    "\n",
    "def generate_strong_password():\n",
    "    uppercase = random.choice(string.ascii_uppercase)\n",
    "    symbol = random.choice(string.punctuation)\n",
    "    digit = random.choice(string.digits)\n",
    "\n",
    "    lowercase_letters = random.choices(string.ascii_lowercase, k=9)\n",
    "\n",
    "    password_list = [uppercase, symbol, digit] + lowercase_letters\n",
    "\n",
    "    random.shuffle(password_list)\n",
    "\n",
    "    password = ''.join(password_list)\n",
    "    return password\n",
    "\n",
    "print(\"✅ Strong Password:\", generate_strong_password())\n",
    "\n"
   ]
  },
  {
   "cell_type": "code",
   "execution_count": null,
   "id": "2f751b92-be32-4dd6-8c38-0f4663f28610",
   "metadata": {},
   "outputs": [],
   "source": []
  }
 ],
 "metadata": {
  "kernelspec": {
   "display_name": "Python [conda env:base] *",
   "language": "python",
   "name": "conda-base-py"
  },
  "language_info": {
   "codemirror_mode": {
    "name": "ipython",
    "version": 3
   },
   "file_extension": ".py",
   "mimetype": "text/x-python",
   "name": "python",
   "nbconvert_exporter": "python",
   "pygments_lexer": "ipython3",
   "version": "3.12.7"
  }
 },
 "nbformat": 4,
 "nbformat_minor": 5
}
